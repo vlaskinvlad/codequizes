{
 "cells": [
  {
   "cell_type": "markdown",
   "metadata": {},
   "source": [
    "### LSM trees\n",
    "\n",
    "Great overview article: https://blog.timescale.com/time-series-data-why-and-how-to-use-a-relational-database-instead-of-nosql-d0cd6975e87c\n",
    "\n",
    "Another one, quite good\n",
    "https://blog.timescale.com/why-sql-beating-nosql-what-this-means-for-future-of-data-time-series-database-348b777b847a\n",
    "\n",
    "https://en.wikipedia.org/wiki/Log-structured_merge-tree\n",
    "\n",
    "\n",
    "- Used in HBASE, MongoDB, Cassandra\n",
    "\n",
    "- https://www.datastax.com/dev/blog/leveled-compaction-in-apache-cassandra\n",
    "\n",
    "- Some architecture decisions\n",
    "https://medium.com/@Pinterest_Engineering/building-a-dynamic-and-responsive-pinterest-7d410e99f0a9"
   ]
  }
 ],
 "metadata": {
  "kernelspec": {
   "display_name": "Python 3",
   "language": "python",
   "name": "python3"
  },
  "language_info": {
   "codemirror_mode": {
    "name": "ipython",
    "version": 3
   },
   "file_extension": ".py",
   "mimetype": "text/x-python",
   "name": "python",
   "nbconvert_exporter": "python",
   "pygments_lexer": "ipython3",
   "version": "3.6.3"
  }
 },
 "nbformat": 4,
 "nbformat_minor": 2
}
