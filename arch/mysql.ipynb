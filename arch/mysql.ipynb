{
 "cells": [
  {
   "cell_type": "markdown",
   "metadata": {},
   "source": [
    "## Mysql cluster\n",
    "\n",
    "\n",
    "### links\n",
    "\n",
    "- [mysql cluster 200KK rps](http://highscalability.com/blog/2015/5/18/how-mysql-is-able-to-scale-to-200-million-qps-mysql-cluster.html)\n",
    "\n",
    "- [ACID](https://en.wikipedia.org/wiki/ACID_(computer_science))"
   ]
  },
  {
   "cell_type": "markdown",
   "metadata": {},
   "source": [
    "### ACID\n",
    "\n",
    "A: Atomicity\n",
    "\n",
    "Each transaction change data base stage atomically, either it successes atomically or fails atomically\n",
    "\n",
    "C: Consistency\n",
    "\n",
    "Each transaction keep the main data table invariant: consistency of the data with the cascades and triggers\n",
    "\n",
    "I: Isolation\n",
    "\n",
    "In concurrent environment, the transactions are executed as they would be executed in sequential environment\n",
    "\n",
    "D: Durability\n",
    "\n",
    "Once the transaction has been committed, it is ensured that the transaction will be processed,\n",
    "despite possible electric failures.\n",
    "(writing transactions in non-volatile memory)"
   ]
  },
  {
   "cell_type": "markdown",
   "metadata": {},
   "source": [
    "#### Mysql Replication\n",
    "\n",
    "[good link to start](https://dev.mysql.com/doc/refman/5.7/en/replication.html)"
   ]
  }
 ],
 "metadata": {
  "kernelspec": {
   "display_name": "Python 3",
   "language": "python",
   "name": "python3"
  },
  "language_info": {
   "codemirror_mode": {
    "name": "ipython",
    "version": 3
   },
   "file_extension": ".py",
   "mimetype": "text/x-python",
   "name": "python",
   "nbconvert_exporter": "python",
   "pygments_lexer": "ipython3",
   "version": "3.6.3"
  }
 },
 "nbformat": 4,
 "nbformat_minor": 2
}
