{
 "cells": [
  {
   "cell_type": "code",
   "execution_count": 69,
   "metadata": {},
   "outputs": [],
   "source": [
    "%matplotlib inline"
   ]
  },
  {
   "cell_type": "code",
   "execution_count": 70,
   "metadata": {},
   "outputs": [],
   "source": [
    "import sys\n",
    "import matplotlib.pyplot as plt\n",
    "import importlib\n",
    "import graph"
   ]
  },
  {
   "cell_type": "code",
   "execution_count": 91,
   "metadata": {},
   "outputs": [
    {
     "data": {
      "text/plain": [
       "Graph vertices: ['t', 's', 'y', 'x', 'z']\n",
       "Adjuscency lists: \n",
       "key: t, edges: ['y', 'x', 'z']\n",
       "key: s, edges: ['t', 'y']\n",
       "key: y, edges: ['x', 'z']\n",
       "key: x, edges: ['t']\n",
       "key: z, edges: ['s', 'x']"
      ]
     },
     "execution_count": 91,
     "metadata": {},
     "output_type": "execute_result"
    }
   ],
   "source": [
    "importlib.reload(graph)\n",
    "from graph import G, V\n",
    "g = G()\n",
    "s = V('s') #1\n",
    "t = V('t') #2\n",
    "y = V('y') #3\n",
    "x = V('x') #4\n",
    "z = V('z') #5\n",
    "g.li(s, t, w=6).li(s, t, w=7).li(s,y,w=7).li(t, y, w=8)\\\n",
    ".li(t, x, w=5).li(x, t, w=-2).li(t, z, w=-4)\n",
    "g.li(z, s, w=2).li(z, x, w=7).li(y, x, w=-3)\\\n",
    ".li(y, z, w=9)"
   ]
  },
  {
   "cell_type": "code",
   "execution_count": 99,
   "metadata": {},
   "outputs": [
    {
     "name": "stdout",
     "output_type": "stream",
     "text": [
      "t y 8\n",
      "t x 5\n",
      "t z -4\n",
      "s t 6\n",
      "s y 7\n",
      "y x -3\n",
      "y z 9\n",
      "x t -2\n",
      "z s 2\n",
      "z x 7\n"
     ]
    }
   ],
   "source": [
    "for u, v, w in g.edges():\n",
    "    print(u.val, v.val, w)"
   ]
  },
  {
   "cell_type": "code",
   "execution_count": 100,
   "metadata": {},
   "outputs": [],
   "source": [
    "def relax(u, v, w):\n",
    "    if w is not None and v.d > u.d + w:\n",
    "        v.d = u.d + w\n",
    "        v.p = u"
   ]
  },
  {
   "cell_type": "code",
   "execution_count": 101,
   "metadata": {},
   "outputs": [],
   "source": [
    "def bellman_ford_init(g, source):\n",
    "    for v in g.v:\n",
    "        v.d = sys.maxsize\n",
    "        v.p = None\n",
    "    source.d = 0"
   ]
  },
  {
   "cell_type": "code",
   "execution_count": 102,
   "metadata": {},
   "outputs": [],
   "source": [
    "def bellman_ford(g, source): # O(|V||E|)\n",
    "    bellman_ford_init(g, source)\n",
    "    for i in range(len(g.v)): # O(|V|)\n",
    "        for u, v, w in g.edges(): # O(|E|)\n",
    "            relax(u, v, w)\n",
    "    for u, v, w in g.edges(): # O(|V|)\n",
    "        if v.d > u.d + w:\n",
    "            return False\n",
    "    return True"
   ]
  },
  {
   "cell_type": "code",
   "execution_count": 103,
   "metadata": {},
   "outputs": [
    {
     "data": {
      "text/plain": [
       "True"
      ]
     },
     "execution_count": 103,
     "metadata": {},
     "output_type": "execute_result"
    }
   ],
   "source": [
    "bellman_ford(g, s)"
   ]
  },
  {
   "cell_type": "code",
   "execution_count": 104,
   "metadata": {},
   "outputs": [
    {
     "name": "stdout",
     "output_type": "stream",
     "text": [
      "t shortest dist: 2\n",
      "s shortest dist: 0\n",
      "y shortest dist: 7\n",
      "x shortest dist: 4\n",
      "z shortest dist: -2\n"
     ]
    }
   ],
   "source": [
    "for v in g.v:\n",
    "    print(\"%s shortest dist: %s\" % (v.val, v.d))"
   ]
  }
 ],
 "metadata": {
  "kernelspec": {
   "display_name": "Python 3",
   "language": "python",
   "name": "python3"
  },
  "language_info": {
   "codemirror_mode": {
    "name": "ipython",
    "version": 3
   },
   "file_extension": ".py",
   "mimetype": "text/x-python",
   "name": "python",
   "nbconvert_exporter": "python",
   "pygments_lexer": "ipython3",
   "version": "3.6.6"
  }
 },
 "nbformat": 4,
 "nbformat_minor": 2
}
