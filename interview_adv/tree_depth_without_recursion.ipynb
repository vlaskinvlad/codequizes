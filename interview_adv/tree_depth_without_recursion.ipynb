{
 "cells": [
  {
   "cell_type": "markdown",
   "metadata": {},
   "source": [
    "Write a program to find depth of binary search tree without using recursion."
   ]
  },
  {
   "cell_type": "code",
   "execution_count": 1,
   "metadata": {},
   "outputs": [],
   "source": [
    "class Node(object): \n",
    "    def __init__(self, val):\n",
    "        self.val = val\n",
    "        self.left = None\n",
    "        self.right = None"
   ]
  },
  {
   "cell_type": "code",
   "execution_count": 11,
   "metadata": {},
   "outputs": [
    {
     "data": {
      "text/plain": [
       "46"
      ]
     },
     "execution_count": 11,
     "metadata": {},
     "output_type": "execute_result"
    }
   ],
   "source": [
    "import random\n",
    "random.randint(0,1000)"
   ]
  },
  {
   "cell_type": "code",
   "execution_count": 127,
   "metadata": {},
   "outputs": [],
   "source": [
    "def random_node(a=0, b=1000000):\n",
    "    return Node(random.randint(a,b))\n",
    "\n",
    "def add_node(root, node):\n",
    "    if node.val > root.val: #right child\n",
    "        if root.right is not None:\n",
    "            add_node(root.right, node)\n",
    "        else:\n",
    "            root.right = node\n",
    "    elif node.val < root.val:\n",
    "        if root.left is not None:\n",
    "            add_node(root.left, node)\n",
    "        else:\n",
    "            root.left = node\n",
    "    else:\n",
    "        return\n",
    "    \n",
    "def gen_tree(tree_size):     \n",
    "    root = random_node()\n",
    "    for _ in range(tree_size):\n",
    "        add_node(root, random_node())\n",
    "    return root"
   ]
  },
  {
   "cell_type": "code",
   "execution_count": 82,
   "metadata": {},
   "outputs": [],
   "source": [
    "import networkx as nx"
   ]
  },
  {
   "cell_type": "code",
   "execution_count": 130,
   "metadata": {},
   "outputs": [],
   "source": [
    "for _ in range(100):\n",
    "    root = gen_tree(1000)\n",
    "    assert depth_recursive(root) == level_traversal(root)"
   ]
  },
  {
   "cell_type": "code",
   "execution_count": 97,
   "metadata": {},
   "outputs": [],
   "source": [
    "def depth_recursive(e):\n",
    "    if e is None:\n",
    "        return 0\n",
    "    else:\n",
    "        return 1 + max(depth_recursive(e.right), depth_recursive(e.left))    "
   ]
  },
  {
   "cell_type": "markdown",
   "metadata": {},
   "source": [
    "Ideas for recursive depth algorithm:\n",
    "\n",
    "- We get recursive implementattion, use this one, try to unroll it to the stack  \n",
    "\n",
    "- do DFS and the maximum time of the visit for the node is going to be the the depth of it.\n",
    "  to make it non-recursive we can use stack for these matters \n",
    "  \n",
    "- level tree traversal ( = DFS in case of the balanaced tree)\n",
    "\n",
    "  complexity: $O(V)$ ( E = V - 1 by definition of the tree, and alogorithm works as $O(V+E)$ )\n",
    "  \n",
    "  memory: $\\Theta(2^h)$, where h is the size of the tree \n"
   ]
  },
  {
   "cell_type": "code",
   "execution_count": 131,
   "metadata": {},
   "outputs": [],
   "source": [
    "import collections\n",
    "def level_traversal(root):\n",
    "    q = collections.deque()\n",
    "    q.appendleft(root)\n",
    "    lvl = 0\n",
    "    lvl_size = 1\n",
    "    next_lvl_size = 0\n",
    "    while q:\n",
    "        lvl += 1\n",
    "        next_lvl_size  = 0\n",
    "        while lvl_size > 0:\n",
    "            v = q.pop()\n",
    "            lvl_size -= 1\n",
    "            if v.left is not None:\n",
    "                q.appendleft(v.left)\n",
    "                next_lvl_size += 1\n",
    "            if v.right is not None:\n",
    "                q.appendleft(v.right)\n",
    "                next_lvl_size += 1\n",
    "        lvl_size = next_lvl_size \n",
    "    return lvl\n",
    "\"\"\"\n",
    "debug on a simple tree:\n",
    "\n",
    "               5\n",
    "             /   \\ \n",
    "             3    7\n",
    "              \\    \\ \n",
    "               4    8\n",
    "                     \\\n",
    "                     10\n",
    "                     \n",
    "lvl  = 4\n",
    "next_lvl_size = 0\n",
    "lvl_size = 1\n",
    "q = [10]\n",
    "\"\"\"\n",
    "pass"
   ]
  },
  {
   "cell_type": "code",
   "execution_count": 133,
   "metadata": {},
   "outputs": [],
   "source": [
    "\"\"\"\n",
    "               5\n",
    "             /   \\ \n",
    "             3    7\n",
    "              \\    \\ \n",
    "               4    8\n",
    "                     \\\n",
    "                     10\n",
    "                     \n",
    "5 -> 3 -> 4\n",
    "\n",
    "5 -> 7 -> 8 -> 10 \n",
    "\n",
    "\"\"\"\n",
    "pass"
   ]
  },
  {
   "cell_type": "code",
   "execution_count": 135,
   "metadata": {},
   "outputs": [],
   "source": [
    "def dfs_nonrecursive(root):\n",
    "    ztack = []\n",
    "    visited = set()\n",
    "    ztack.append((root, 1))\n",
    "    time = 0\n",
    "    while ztack:\n",
    "        v, t = ztack.pop()\n",
    "        time = max(time, t)\n",
    "        if v.right is not None:\n",
    "            ztack.append((v.right, t+1))\n",
    "        if v.left is not None:\n",
    "            ztack.append((v.left, t+1))\n",
    "    return time    "
   ]
  },
  {
   "cell_type": "code",
   "execution_count": 168,
   "metadata": {},
   "outputs": [
    {
     "name": "stdout",
     "output_type": "stream",
     "text": [
      "23\n",
      "23\n",
      "23\n"
     ]
    }
   ],
   "source": [
    "root = gen_tree(1000)\n",
    "print(depth_recursive(root))\n",
    "print(dfs_nonrecursive(root))\n",
    "print(level_traversal(root))"
   ]
  }
 ],
 "metadata": {
  "kernelspec": {
   "display_name": "Python 3",
   "language": "python",
   "name": "python3"
  },
  "language_info": {
   "codemirror_mode": {
    "name": "ipython",
    "version": 3
   },
   "file_extension": ".py",
   "mimetype": "text/x-python",
   "name": "python",
   "nbconvert_exporter": "python",
   "pygments_lexer": "ipython3",
   "version": "3.6.5"
  }
 },
 "nbformat": 4,
 "nbformat_minor": 2
}
