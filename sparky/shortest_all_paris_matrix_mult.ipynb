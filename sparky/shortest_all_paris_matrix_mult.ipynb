{
 "cells": [
  {
   "cell_type": "code",
   "execution_count": 1,
   "metadata": {},
   "outputs": [
    {
     "data": {
      "text/html": [
       "Current session configs: <tt>{'jars': [], 'name': 'session-vlad', 'numExecutors': 4, 'executorMemory': '1g', 'driverMemory': '3g', 'conf': {'spark.driver.maxResultSize': '2g', 'livy.server.yarn.app-lookup-timeout': '300s'}, 'kind': 'spark'}</tt><br>"
      ],
      "text/plain": [
       "<IPython.core.display.HTML object>"
      ]
     },
     "metadata": {},
     "output_type": "display_data"
    },
    {
     "data": {
      "text/html": [
       "No active sessions."
      ],
      "text/plain": [
       "<IPython.core.display.HTML object>"
      ]
     },
     "metadata": {},
     "output_type": "display_data"
    }
   ],
   "source": [
    "%%configure -f \n",
    "{\n",
    " \"jars\": [],\n",
    " \"name\":\"session-vlad\",\n",
    " \"numExecutors\": 4,\n",
    " \"executorMemory\": \"1g\",\n",
    " \"driverMemory\": \"3g\",    \n",
    " \"conf\": {\n",
    "    \"spark.driver.maxResultSize\": \"2g\",\n",
    "    \"livy.server.yarn.app-lookup-timeout\": \"300s\"\n",
    " }\n",
    "}"
   ]
  },
  {
   "cell_type": "code",
   "execution_count": 2,
   "metadata": {},
   "outputs": [
    {
     "name": "stdout",
     "output_type": "stream",
     "text": [
      "Starting Spark application\n"
     ]
    },
    {
     "data": {
      "text/html": [
       "<table>\n",
       "<tr><th>ID</th><th>YARN Application ID</th><th>Kind</th><th>State</th><th>Spark UI</th><th>Driver log</th><th>Current session?</th></tr><tr><td>157</td><td>application_1535621600704_0017</td><td>spark</td><td>idle</td><td><a target=\"_blank\" href=\"https://smarty.azurehdinsight.net/yarnui/hn/proxy/application_1535621600704_0017/\">Link</a></td><td><a target=\"_blank\" href=\"http://wn100-smarty.wuy0tdx3g3se3cgj52zzsduk3b.ax.internal.cloudapp.net:30060/node/containerlogs/container_e07_1535621600704_0017_01_000001/livy\">Link</a></td><td>✔</td></tr></table>"
      ],
      "text/plain": [
       "<IPython.core.display.HTML object>"
      ]
     },
     "metadata": {},
     "output_type": "display_data"
    },
    {
     "name": "stdout",
     "output_type": "stream",
     "text": [
      "SparkSession available as 'spark'.\n",
      "res1: org.apache.spark.sql.SparkSession = org.apache.spark.sql.SparkSession@6d564d7d"
     ]
    }
   ],
   "source": [
    "spark"
   ]
  },
  {
   "cell_type": "code",
   "execution_count": 26,
   "metadata": {},
   "outputs": [
    {
     "name": "stdout",
     "output_type": "stream",
     "text": [
      "import org.apache.spark.mllib.linalg.distributed.{CoordinateMatrix, MatrixEntry, RowMatrix, DistributedMatrix}"
     ]
    }
   ],
   "source": [
    "import org.apache.spark.rdd.RDD\n",
    "import org.apache.spark.mllib.linalg.distributed.{CoordinateMatrix, MatrixEntry, RowMatrix, DistributedMatrix}"
   ]
  },
  {
   "cell_type": "code",
   "execution_count": 27,
   "metadata": {},
   "outputs": [
    {
     "name": "stderr",
     "output_type": "stream",
     "text": [
      "An error was encountered:\n",
      "Invalid status code '404' from https://smarty.azurehdinsight.net/livy/sessions/157 with error payload: \"Session '157' not found.\"\n"
     ]
    }
   ],
   "source": [
    "val notNullRdd: RDD[MatrixEntry] = sc.parallelize(Seq(\n",
    "MatrixEntry(0, 2, 8.0),\n",
    "MatrixEntry(0, 3, 5.0),\n",
    "MatrixEntry(0, 4, -4.0),\n",
    "MatrixEntry(1, 0, 6.0),\n",
    "MatrixEntry(1, 2, 7.0),\n",
    "MatrixEntry(2, 3, -3.0),\n",
    "MatrixEntry(2, 4, 9.0),\n",
    "MatrixEntry(3, 0, -2.0),\n",
    "MatrixEntry(4, 1, 2.0),\n",
    "MatrixEntry(4, 3, 7.0)\n",
    "))"
   ]
  },
  {
   "cell_type": "code",
   "execution_count": 24,
   "metadata": {},
   "outputs": [
    {
     "name": "stdout",
     "output_type": "stream",
     "text": [
      "res8: (Long, Long) = (5,5)"
     ]
    }
   ],
   "source": [
    "val mat: CoordinateMatrix = new CoordinateMatrix(notNullRdd)\n",
    "(mat.numRows(), mat.numCols())"
   ]
  },
  {
   "cell_type": "code",
   "execution_count": 25,
   "metadata": {},
   "outputs": [
    {
     "name": "stdout",
     "output_type": "stream",
     "text": [
      "matIndexRow: org.apache.spark.mllib.linalg.distributed.IndexedRowMatrix = org.apache.spark.mllib.linalg.distributed.IndexedRowMatrix@7afa5ef4"
     ]
    }
   ],
   "source": [
    "val matIndexRow = mat.toIndexedRowMatrix()"
   ]
  },
  {
   "cell_type": "markdown",
   "metadata": {},
   "source": [
    "$\\text{set } c_{i,j} = 0$\n",
    "\n",
    "$c_{i,j} = \\min_{k=1..n}(a_{i,k} + b_{k,j}  )$"
   ]
  },
  {
   "cell_type": "code",
   "execution_count": null,
   "metadata": {},
   "outputs": [],
   "source": [
    "def minMultiply(A: DistributedMatrix, B: DistributedMatrix):"
   ]
  }
 ],
 "metadata": {
  "kernelspec": {
   "display_name": "Spark",
   "language": "",
   "name": "sparkkernel"
  },
  "language_info": {
   "codemirror_mode": "text/x-scala",
   "mimetype": "text/x-scala",
   "name": "scala",
   "pygments_lexer": "scala"
  }
 },
 "nbformat": 4,
 "nbformat_minor": 2
}
