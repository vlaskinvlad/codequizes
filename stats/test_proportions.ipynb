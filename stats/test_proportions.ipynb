{
 "cells": [
  {
   "cell_type": "code",
   "execution_count": 11,
   "metadata": {},
   "outputs": [
    {
     "name": "stderr",
     "output_type": "stream",
     "text": [
      "/opt/conda/lib/python3.6/importlib/_bootstrap.py:219: RuntimeWarning: numpy.dtype size changed, may indicate binary incompatibility. Expected 96, got 88\n",
      "  return f(*args, **kwds)\n"
     ]
    }
   ],
   "source": [
    "import numpy as np\n",
    "import scipy.stats as ss"
   ]
  },
  {
   "cell_type": "markdown",
   "metadata": {},
   "source": [
    "7.13\n",
    "\n",
    "- 2 groups A, B (control) of size 100\n",
    "\n",
    "- successes A: 75, group B: 65\n",
    "\n",
    "Hypothesis: intervention helps to succeed\n",
    "\n",
    "- significance levels: 0.01, 0.05, 0.1\n",
    "\n",
    "- find p-value of the test"
   ]
  },
  {
   "cell_type": "code",
   "execution_count": 51,
   "metadata": {},
   "outputs": [
    {
     "data": {
      "text/plain": [
       "1.5430334996209185"
      ]
     },
     "execution_count": 51,
     "metadata": {},
     "output_type": "execute_result"
    }
   ],
   "source": [
    "n1 = 100\n",
    "n2 = 100\n",
    "x1 = 75\n",
    "x2 = 65\n",
    "\n",
    "p_pooled = (x1 + x2) / (n1 + n2)\n",
    "sigma_std = np.sqrt(p_pooled*(1-p_pooled)*(1/n1 + 1/n2))\n",
    "p1 = x1 / n1\n",
    "p2 = x2 / n2\n",
    "z = (p1 - p2 - 0) / sigma_std\n",
    "z"
   ]
  },
  {
   "cell_type": "code",
   "execution_count": 45,
   "metadata": {},
   "outputs": [
    {
     "name": "stdout",
     "output_type": "stream",
     "text": [
      "Accept hypothesis at significance 0.05 : False\n"
     ]
    }
   ],
   "source": [
    "significance_level = 0.05 # one tailed tests, hypothesis is that p1 > p2\n",
    "accept_hypothesis = z > ss.norm.ppf(1 - significance_level)\n",
    "print(\"Accept hypothesis at significance %.2f : %s\" % (significance_level, accept_hypothesis))"
   ]
  },
  {
   "cell_type": "code",
   "execution_count": 46,
   "metadata": {},
   "outputs": [
    {
     "data": {
      "text/plain": [
       "0.06141132405069638"
      ]
     },
     "execution_count": 46,
     "metadata": {},
     "output_type": "execute_result"
    }
   ],
   "source": [
    "pval = 1 - ss.norm.cdf(z) # prob of false rejecting the H0 hypothesis\n",
    "pval"
   ]
  },
  {
   "cell_type": "markdown",
   "metadata": {},
   "source": [
    "Doing the same with statsmodels"
   ]
  },
  {
   "cell_type": "code",
   "execution_count": 69,
   "metadata": {},
   "outputs": [],
   "source": [
    "import statsmodels.api as sm"
   ]
  },
  {
   "cell_type": "code",
   "execution_count": 70,
   "metadata": {},
   "outputs": [
    {
     "data": {
      "text/plain": [
       "(1.5430334996209185, 0.06141132405069633)"
      ]
     },
     "execution_count": 70,
     "metadata": {},
     "output_type": "execute_result"
    }
   ],
   "source": [
    "sm.stats.proportions_ztest(count=np.array([75, 65]), nobs=np.array([100, 100]), alternative='larger')"
   ]
  },
  {
   "cell_type": "markdown",
   "metadata": {},
   "source": [
    "### on P-value\n",
    "\n",
    "\n",
    "---\n",
    "\n",
    "Researchers conducted a blind taste test of Coke versus Pepsi. Each of four people was asked which of two blinded drinks given in random order that they preferred. The data was such that 3 of the 4 people chose Coke. Assuming that this sample is representative, report a P-value for a test of the hypothesis that Coke is preferred to Pepsi using a one sided exact test"
   ]
  },
  {
   "cell_type": "markdown",
   "metadata": {},
   "source": [
    "$H_{0}$: there is no preference between Coke or Pepsi $p_{coke} = p_{pepsi}$\n",
    "\n",
    "\n",
    "$H_{1}$: Coke preferred over Pepsi, $p_{coke} > p_{pepsi}$"
   ]
  },
  {
   "cell_type": "markdown",
   "metadata": {},
   "source": [
    "p-value:\n",
    "\n",
    "Suppose $H_{0}$ is true, we calculate the probability that selected statistics is the \n",
    "same or greater than the value calculated on the sample data.\n",
    "\n",
    "\n",
    "If p-value is small (<0.05), we say there is not enought evidence to keep $H_{0}$ and therefore $H_{1}$ must be true.\n",
    "\n",
    "There are three or more votes for *coke* against pepsi.\n",
    "\n",
    "probability to get 3 or 4 votes for pepsi is:\n",
    "\n"
   ]
  },
  {
   "cell_type": "code",
   "execution_count": 83,
   "metadata": {},
   "outputs": [],
   "source": [
    "from scipy import stats"
   ]
  },
  {
   "cell_type": "code",
   "execution_count": 84,
   "metadata": {},
   "outputs": [
    {
     "data": {
      "text/plain": [
       "0.31250000000000006"
      ]
     },
     "execution_count": 84,
     "metadata": {},
     "output_type": "execute_result"
    }
   ],
   "source": [
    "stats.binom.pmf(k=3,n=4,p=0.5) + stats.binom.pmf(k=4, n=4 ,p=0.5)"
   ]
  },
  {
   "cell_type": "markdown",
   "metadata": {},
   "source": [
    "And now we do the same via the library function"
   ]
  },
  {
   "cell_type": "code",
   "execution_count": 85,
   "metadata": {},
   "outputs": [
    {
     "data": {
      "text/plain": [
       "0.3125"
      ]
     },
     "execution_count": 85,
     "metadata": {},
     "output_type": "execute_result"
    }
   ],
   "source": [
    "stats.binom_test(3, 4, p=0.5, alternative='greater')"
   ]
  },
  {
   "cell_type": "markdown",
   "metadata": {},
   "source": [
    "---\n",
    "\n",
    "Protocol of the testing is:\n",
    "\n",
    "We toss a coin 100 times. Say coin is fair if heads in between 40 and 60. Otherwise coin is not fair.\n",
    "\n",
    "$H_0$: coin is fair, p=0.5\n",
    "\n",
    "$H_1$: coin is loaded, p != 0.5"
   ]
  },
  {
   "cell_type": "markdown",
   "metadata": {},
   "source": [
    "Find the probability that the test wors under $H_0$"
   ]
  },
  {
   "cell_type": "code",
   "execution_count": 94,
   "metadata": {},
   "outputs": [
    {
     "data": {
      "text/plain": [
       "0.03520020021773318"
      ]
     },
     "execution_count": 94,
     "metadata": {},
     "output_type": "execute_result"
    }
   ],
   "source": [
    "p_direct= sum([stats.binom.pmf(k=k,n=100,p=0.5) for k in range(40, 61)])\n",
    "alpha = 1 - p_direct\n",
    "alpha"
   ]
  },
  {
   "cell_type": "markdown",
   "metadata": {},
   "source": [
    "Find these probability using normal approximation"
   ]
  },
  {
   "cell_type": "code",
   "execution_count": 96,
   "metadata": {},
   "outputs": [],
   "source": [
    "mu = 0.5*100\n",
    "std = np.sqrt(100*0.5*(1-0.5))"
   ]
  }
 ],
 "metadata": {
  "kernelspec": {
   "display_name": "Python 3",
   "language": "python",
   "name": "python3"
  },
  "language_info": {
   "codemirror_mode": {
    "name": "ipython",
    "version": 3
   },
   "file_extension": ".py",
   "mimetype": "text/x-python",
   "name": "python",
   "nbconvert_exporter": "python",
   "pygments_lexer": "ipython3",
   "version": "3.6.6"
  }
 },
 "nbformat": 4,
 "nbformat_minor": 2
}
