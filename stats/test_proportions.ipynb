{
 "cells": [
  {
   "cell_type": "code",
   "execution_count": 11,
   "metadata": {},
   "outputs": [
    {
     "name": "stderr",
     "output_type": "stream",
     "text": [
      "/opt/conda/lib/python3.6/importlib/_bootstrap.py:219: RuntimeWarning: numpy.dtype size changed, may indicate binary incompatibility. Expected 96, got 88\n",
      "  return f(*args, **kwds)\n"
     ]
    }
   ],
   "source": [
    "import numpy as np\n",
    "import scipy.stats as ss"
   ]
  },
  {
   "cell_type": "markdown",
   "metadata": {},
   "source": [
    "7.13\n",
    "\n",
    "- 2 groups A, B (control) of size 100\n",
    "\n",
    "- successes A: 75, group B: 65\n",
    "\n",
    "Hypothesis: intervention helps to succeed\n",
    "\n",
    "- significance levels: 0.01, 0.05, 0.1\n",
    "\n",
    "- find p-value of the test"
   ]
  },
  {
   "cell_type": "code",
   "execution_count": 51,
   "metadata": {},
   "outputs": [
    {
     "data": {
      "text/plain": [
       "1.5430334996209185"
      ]
     },
     "execution_count": 51,
     "metadata": {},
     "output_type": "execute_result"
    }
   ],
   "source": [
    "n1 = 100\n",
    "n2 = 100\n",
    "x1 = 75\n",
    "x2 = 65\n",
    "\n",
    "p_pooled = (x1 + x2) / (n1 + n2)\n",
    "sigma_std = np.sqrt(p_pooled*(1-p_pooled)*(1/n1 + 1/n2))\n",
    "\n",
    "p1 = x1 / n1\n",
    "p2 = x2 / n2\n",
    "\n",
    "z = (p1 - p2 - 0) / sigma_std\n",
    "z"
   ]
  },
  {
   "cell_type": "code",
   "execution_count": 45,
   "metadata": {},
   "outputs": [
    {
     "name": "stdout",
     "output_type": "stream",
     "text": [
      "Accept hypothesis at significance 0.05 : False\n"
     ]
    }
   ],
   "source": [
    "significance_level = 0.05 # one tailed tests, hypothesis is that p1 > p2\n",
    "accept_hypothesis = z > ss.norm.ppf(1 - significance_level)\n",
    "print(\"Accept hypothesis at significance %.2f : %s\" % (significance_level, accept_hypothesis))"
   ]
  },
  {
   "cell_type": "code",
   "execution_count": 46,
   "metadata": {},
   "outputs": [
    {
     "data": {
      "text/plain": [
       "0.06141132405069638"
      ]
     },
     "execution_count": 46,
     "metadata": {},
     "output_type": "execute_result"
    }
   ],
   "source": [
    "pval = 1 - ss.norm.cdf(z) # prob of false rejecting the H0 hypothesis\n",
    "pval"
   ]
  },
  {
   "cell_type": "markdown",
   "metadata": {},
   "source": [
    "Doing the same with statsmodels"
   ]
  },
  {
   "cell_type": "code",
   "execution_count": 48,
   "metadata": {},
   "outputs": [],
   "source": [
    "import statsmodels.api as sm"
   ]
  },
  {
   "cell_type": "code",
   "execution_count": 53,
   "metadata": {},
   "outputs": [
    {
     "data": {
      "text/plain": [
       "(1.5430334996209185, 0.06141132405069633)"
      ]
     },
     "execution_count": 53,
     "metadata": {},
     "output_type": "execute_result"
    }
   ],
   "source": [
    "sm.stats.proportions_ztest(count=np.array([75, 65]), nobs=np.array([100, 100]), alternative='larger')"
   ]
  }
 ],
 "metadata": {
  "kernelspec": {
   "display_name": "Python 3",
   "language": "python",
   "name": "python3"
  },
  "language_info": {
   "codemirror_mode": {
    "name": "ipython",
    "version": 3
   },
   "file_extension": ".py",
   "mimetype": "text/x-python",
   "name": "python",
   "nbconvert_exporter": "python",
   "pygments_lexer": "ipython3",
   "version": "3.6.6"
  }
 },
 "nbformat": 4,
 "nbformat_minor": 2
}
