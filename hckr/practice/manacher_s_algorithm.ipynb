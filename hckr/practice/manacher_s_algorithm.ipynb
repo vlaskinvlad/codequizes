{
 "cells": [
  {
   "cell_type": "code",
   "execution_count": 7,
   "metadata": {},
   "outputs": [
    {
     "name": "stdout",
     "output_type": "stream",
     "text": [
      "$#a#b#a#a#a#b#@\n"
     ]
    },
    {
     "data": {
      "text/plain": [
       "5"
      ]
     },
     "execution_count": 7,
     "metadata": {},
     "output_type": "execute_result"
    }
   ],
   "source": [
    "def longest_palindrom_size(s: str) -> int:   \n",
    "    t = \"$#\" + \"\".join([ e + \"#\" for e in s]) + \"@\"\n",
    "    p = [0]*len(t)\n",
    "    print(t)\n",
    "    c, r = 0, 0\n",
    "    for i in range(1, len(t)-1):        \n",
    "        mirr = 2*c - i        \n",
    "        if i < r:\n",
    "            p[i] = min(r-i, p[mirr])\n",
    "        \n",
    "        while t[i+(1+p[i])] == t[i-(1+p[i])]:\n",
    "            p[i] += 1\n",
    "        \n",
    "        if i + p[i] > r:\n",
    "            c = i\n",
    "            r = c + p[i]\n",
    "    return max(p)     \n",
    "longest_palindrom_size(\"abaaab\")"
   ]
  }
 ],
 "metadata": {
  "kernelspec": {
   "display_name": "Python 3",
   "language": "python",
   "name": "python3"
  },
  "language_info": {
   "codemirror_mode": {
    "name": "ipython",
    "version": 3
   },
   "file_extension": ".py",
   "mimetype": "text/x-python",
   "name": "python",
   "nbconvert_exporter": "python",
   "pygments_lexer": "ipython3",
   "version": "3.6.3"
  }
 },
 "nbformat": 4,
 "nbformat_minor": 2
}
