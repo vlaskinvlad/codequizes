{
 "cells": [
  {
   "cell_type": "code",
   "execution_count": 5,
   "metadata": {},
   "outputs": [],
   "source": [
    "from typing import List\n",
    "\n",
    "def parenthesis_combinations(n:int) -> List[List[int]]:\n",
    "    \"\"\"\n",
    "    Generate all valid parenthesis combinations of size n\n",
    "    n = 3, n # open and close combinations\n",
    "    ()()()\n",
    "    (())()\n",
    "    ()(())\n",
    "    ((()))\n",
    "    (()())\n",
    "    \n",
    "    the other structure, this structure is better\n",
    "                        (\n",
    "                  /      |               \n",
    "                ()       ((                \n",
    "              /          |     \\\n",
    "            ()(          (((    (()(\n",
    "          /  |            |\n",
    "       ()((  ()()        ((()\n",
    "       \n",
    "       ... \n",
    "       f(n_opening, n_closing, path, n)\n",
    "       n_openening should be > n_closing\n",
    "       extend them appending the proper elemtns \n",
    "       \n",
    "    the stucture:       \n",
    "                    .(.). \n",
    "                 /    |     \\\n",
    "             .(.).(.).  (())    ()()*\n",
    "         /    |\n",
    "      ()()()   (())() ()()()* ()(())  ()()()()()\n",
    "    \"\"\"\n",
    "    if n is None or n < 0: raise ValueError(\"Wrong number of parenthesis, must be >= 0, got: %s\" % n)                \n",
    "    if n == 0: return []\n",
    "    if n == 1: return [\"()\"]    \n",
    "    def parenthesis_aux(sink, n_max, n_open, n_close, path):\n",
    "        if n_open == n_max and n_close == n_max:\n",
    "            sink.append(path)\n",
    "        if n_open < n_max: parenthesis_aux(sink, n_max, n_open+1, n_close, path+\"(\")\n",
    "        if n_close < n_max and n_close < n_open: parenthesis_aux(sink, n_max, n_open, n_close+1, path+\")\")                                                                               \n",
    "    res = []  \n",
    "    parenthesis_aux(res, n, 0, 0, \"\")\n",
    "    return res        "
   ]
  },
  {
   "cell_type": "code",
   "execution_count": 8,
   "metadata": {},
   "outputs": [
    {
     "data": {
      "text/plain": [
       "['((()))', '(()())', '(())()', '()(())', '()()()']"
      ]
     },
     "execution_count": 8,
     "metadata": {},
     "output_type": "execute_result"
    }
   ],
   "source": [
    "parenthesis_combinations(3)"
   ]
  },
  {
   "cell_type": "markdown",
   "metadata": {},
   "source": [
    "Another nice task came along\n",
    "```\n",
    "Remove the minimum number of invalid parentheses in order to make the input string valid. Return all possible results.\n",
    "```\n",
    "\n",
    "input: \"(a)())()\"\n",
    "\n",
    "output: [\"(a)()()\", \"(a())()\"]"
   ]
  },
  {
   "cell_type": "code",
   "execution_count": 26,
   "metadata": {},
   "outputs": [
    {
     "data": {
      "text/plain": [
       "['(a)()()', '(a())()']"
      ]
     },
     "execution_count": 26,
     "metadata": {},
     "output_type": "execute_result"
    }
   ],
   "source": [
    "def is_valid(source) -> bool:                  \n",
    "            c = 0\n",
    "            for e in source:\n",
    "                if e == '(':\n",
    "                    c += 1\n",
    "                elif e == ')':\n",
    "                    c -= 1\n",
    "                    if c < 0: \n",
    "                        return False\n",
    "            return c == 0\n",
    "\n",
    "def remove_parenthesis(s: str) -> List[str]:\n",
    "    level = {s}\n",
    "    while True:\n",
    "        valid = list(filter(is_valid, level))\n",
    "        if valid:\n",
    "            return valid\n",
    "        level =  {q[:i]+q[i+1:] for q in level for i in range(len(q))}    \n",
    "remove_parenthesis(\"(a)())()\")"
   ]
  },
  {
   "cell_type": "code",
   "execution_count": 16,
   "metadata": {},
   "outputs": [
    {
     "name": "stdout",
     "output_type": "stream",
     "text": [
      "{'(a)())()'}\n"
     ]
    },
    {
     "data": {
      "text/plain": [
       "[]"
      ]
     },
     "execution_count": 16,
     "metadata": {},
     "output_type": "execute_result"
    }
   ],
   "source": []
  }
 ],
 "metadata": {
  "kernelspec": {
   "display_name": "Python 3",
   "language": "python",
   "name": "python3"
  },
  "language_info": {
   "codemirror_mode": {
    "name": "ipython",
    "version": 3
   },
   "file_extension": ".py",
   "mimetype": "text/x-python",
   "name": "python",
   "nbconvert_exporter": "python",
   "pygments_lexer": "ipython3",
   "version": "3.6.3"
  }
 },
 "nbformat": 4,
 "nbformat_minor": 2
}
