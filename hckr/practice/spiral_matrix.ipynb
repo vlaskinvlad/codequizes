{
 "cells": [
  {
   "cell_type": "code",
   "execution_count": 14,
   "metadata": {},
   "outputs": [],
   "source": [
    "from typing import List"
   ]
  },
  {
   "cell_type": "code",
   "execution_count": 29,
   "metadata": {},
   "outputs": [],
   "source": [
    "def spiral_matrix(n:int) -> List[List[int]]:\n",
    "    \"\"\"\n",
    "    given the size of the lists, returns a spiral matrix of size (n x n)\n",
    "    \"\"\"   \n",
    "    res = [[0]*n for _ in range(n)]    \n",
    "    def spiral_aux(top_left, start_value, size):\n",
    "        if size < 1: return\n",
    "        if size == 1:\n",
    "            res[top_left][top_left] = start_value\n",
    "            return        \n",
    "        v = start_value    \n",
    "        k = top_left+size-1\n",
    "        s\n",
    "        for j in range(top_left, k): res[top_left][j] = v; v += 1\n",
    "        for i in range(top_left, k): res[i][k] = v; v += 1\n",
    "        for j in range(k, top_left, -1): res[k][j] = v; v += 1\n",
    "        for i in range(k, top_left, -1): res[i][top_left] = v; v+= 1\n",
    "\n",
    "        spiral_aux(top_left + 1, v, size - 2) # -2 because we cut both upper and bottom     \n",
    "    spiral_aux(0, 1, n)    \n",
    "    return res"
   ]
  },
  {
   "cell_type": "code",
   "execution_count": 30,
   "metadata": {},
   "outputs": [
    {
     "data": {
      "text/plain": [
       "[[1, 2, 3, 4, 5, 6, 7, 8, 9, 10],\n",
       " [36, 37, 38, 39, 40, 41, 42, 43, 44, 11],\n",
       " [35, 64, 65, 66, 67, 68, 69, 70, 45, 12],\n",
       " [34, 63, 84, 85, 86, 87, 88, 71, 46, 13],\n",
       " [33, 62, 83, 96, 97, 98, 89, 72, 47, 14],\n",
       " [32, 61, 82, 95, 100, 99, 90, 73, 48, 15],\n",
       " [31, 60, 81, 94, 93, 92, 91, 74, 49, 16],\n",
       " [30, 59, 80, 79, 78, 77, 76, 75, 50, 17],\n",
       " [29, 58, 57, 56, 55, 54, 53, 52, 51, 18],\n",
       " [28, 27, 26, 25, 24, 23, 22, 21, 20, 19]]"
      ]
     },
     "execution_count": 30,
     "metadata": {},
     "output_type": "execute_result"
    }
   ],
   "source": [
    "spiral_matrix(10)"
   ]
  }
 ],
 "metadata": {
  "kernelspec": {
   "display_name": "Python 3",
   "language": "python",
   "name": "python3"
  },
  "language_info": {
   "codemirror_mode": {
    "name": "ipython",
    "version": 3
   },
   "file_extension": ".py",
   "mimetype": "text/x-python",
   "name": "python",
   "nbconvert_exporter": "python",
   "pygments_lexer": "ipython3",
   "version": "3.6.3"
  }
 },
 "nbformat": 4,
 "nbformat_minor": 2
}
