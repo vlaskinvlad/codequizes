{
 "cells": [
  {
   "cell_type": "markdown",
   "metadata": {},
   "source": [
    "#### Permutations via \"remove first\" or tail recursion techinique"
   ]
  },
  {
   "cell_type": "code",
   "execution_count": 1,
   "metadata": {},
   "outputs": [],
   "source": [
    "from typing import List"
   ]
  },
  {
   "cell_type": "code",
   "execution_count": 46,
   "metadata": {},
   "outputs": [
    {
     "data": {
      "text/plain": [
       "[[3, 2, 1], [2, 3, 1], [3, 1, 2], [1, 3, 2], [1, 2, 3], [2, 1, 3]]"
      ]
     },
     "execution_count": 46,
     "metadata": {},
     "output_type": "execute_result"
    }
   ],
   "source": [
    "def permutation_tailrec(num: List[int]) -> List[List[int]]:\n",
    "    \"\"\"\n",
    "        return permutation of a set (assuming no duplicates)\n",
    "        decrease and conquer technique\n",
    "    \"\"\"\n",
    "    if not num:\n",
    "        return []\n",
    "    n = len(num)\n",
    "    if n == 1:\n",
    "        return [[num[0]]]\n",
    "    res = []\n",
    "    for i in range(0, n):\n",
    "        # swap i'th and the first element, do the permutation of the tail\n",
    "        num[i], num[0] = num[0], num[i]\n",
    "        z = permutation_tailrec(num[1:]) # process through the underlying permutations\n",
    "        for p in z: res.append(p + [num[0]])\n",
    "        num[i], num[0] = num[0], num[i] # amend the swap                    \n",
    "    return res\n",
    "\"\"\"\n",
    "the size of the answer: O(n!)\n",
    "                 ø\n",
    "                 |\n",
    "*n            [1,2,3]\n",
    "           /     |       \\ \n",
    "n-1     1[2,3]   2[1,3]   3[1,2]   node size: n-1,  # of nodes: n\n",
    "         /  \\\n",
    "n-2     2[3] 3[2]                  node size: n-2   # of nodes n*(n-1)\n",
    "\n",
    "overall memory: (n-1)*n+(n-2)*n(n-1)+(n-3)*n(n-1)(n-2) ~ O(n!)\n",
    "the memory required for this\n",
    "      \n",
    "DEBUG:\n",
    "num = [1, 2]\n",
    "res: [[2,1], [1,2]]\n",
    "per([1,2])\n",
    "\n",
    "  swap(0,0) i = 0\n",
    "  per([2]) => [[2]]\n",
    "  swap(0,0)\n",
    "  \n",
    "  i=1 swap(1,0)\n",
    "  per([1]) => [[1]]\n",
    "  swap(1,0)\n",
    "\"\"\"\n",
    "\n",
    "permutation_tailrec([1,2,3])"
   ]
  },
  {
   "cell_type": "markdown",
   "metadata": {},
   "source": [
    "#### permutation via insert algorithm"
   ]
  },
  {
   "cell_type": "code",
   "execution_count": 13,
   "metadata": {},
   "outputs": [],
   "source": [
    "\"\"\"\n",
    "The idea comes the tree structure of the sorts:\n",
    "               ø \n",
    "               |\n",
    "               1\n",
    "          /            \\   \n",
    "        1,2            2,1\n",
    "   /     |     \\  \n",
    "1,2,3  1,3,2  3,1,2\n",
    "\"\"\"\n",
    "pass"
   ]
  },
  {
   "cell_type": "markdown",
   "metadata": {},
   "source": [
    "#### Permutations with the unique string"
   ]
  },
  {
   "cell_type": "code",
   "execution_count": null,
   "metadata": {},
   "outputs": [],
   "source": [
    "\"\"\"\n",
    "permutations with the repetitions:\n",
    "[1,1,2]\n",
    "[1,2,1]\n",
    "[2,1,1]\n",
    "\"\"\""
   ]
  },
  {
   "cell_type": "code",
   "execution_count": 169,
   "metadata": {},
   "outputs": [],
   "source": [
    "def pu(nums: List[int]) -> List[List[int]]:\n",
    "    nums.sort()\n",
    "    return permutation_unique(nums, None)\n",
    "\n",
    "def permutation_unique(nums: List[int], caller: None) -> List[List[int]]:\n",
    "    print(\"%s->%s\" % (caller, nums))\n",
    "    if not nums: return []\n",
    "    if len(nums) == 1: return [[nums[0]]]\n",
    "    res = []\n",
    "    for i, e in enumerate(nums):\n",
    "        if i > 0 and nums[i-1]== e: continue \n",
    "        #nums[i], nums[0] = nums[0], nums[i] # instead of swapping, people do the indexes\n",
    "        z = permutation_unique(nums[:i] + nums[i+1:], e)\n",
    "        for p in z: res.append([e]+ p)        \n",
    "    return res\n",
    "\n",
    "\"\"\"\n",
    "[3,0,3, 4,4] -> [0, 3, 3, 4, 4]\n",
    "0 + p([3, 3, 4, 4]) => ?\n",
    "3 + p([0,3,4, 4]) => ?\n",
    "[3,0,3, 4, 4]\n",
    "4 + p([0,3,3,4]) => 2 \n",
    "\"\"\"\n",
    "pass"
   ]
  },
  {
   "cell_type": "code",
   "execution_count": 170,
   "metadata": {},
   "outputs": [
    {
     "name": "stdout",
     "output_type": "stream",
     "text": [
      "None->[0, 3, 3]\n",
      "0->[3, 3]\n",
      "3->[3]\n",
      "3->[0, 3]\n",
      "0->[3]\n",
      "3->[0]\n"
     ]
    },
    {
     "data": {
      "text/plain": [
       "[[0, 3, 3], [3, 0, 3], [3, 3, 0]]"
      ]
     },
     "execution_count": 170,
     "metadata": {},
     "output_type": "execute_result"
    }
   ],
   "source": [
    "pu([3,0,3])"
   ]
  }
 ],
 "metadata": {
  "kernelspec": {
   "display_name": "Python 3",
   "language": "python",
   "name": "python3"
  },
  "language_info": {
   "codemirror_mode": {
    "name": "ipython",
    "version": 3
   },
   "file_extension": ".py",
   "mimetype": "text/x-python",
   "name": "python",
   "nbconvert_exporter": "python",
   "pygments_lexer": "ipython3",
   "version": "3.6.3"
  }
 },
 "nbformat": 4,
 "nbformat_minor": 2
}
