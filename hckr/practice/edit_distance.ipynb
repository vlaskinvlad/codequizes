{
 "cells": [
  {
   "cell_type": "code",
   "execution_count": 3,
   "metadata": {},
   "outputs": [],
   "source": [
    "def editDistance(word1, word2):\n",
    "        \"\"\"\n",
    "        :type word1: str\n",
    "        :type word2: str\n",
    "        :rtype: int        \n",
    "        idea: dynamic programming solution\n",
    "        complexity: O(m*n)        \n",
    "        horse, ros        \n",
    "        s(i,j) = s(i-1, j-1) if a[i] == b[j]         \n",
    "        if  (i != j)\n",
    "        if can: \n",
    "        1. delete both \n",
    "        2. do replacement of one of the items: \n",
    "           s(i-1, j-1) + 1 - to replace either of the symbols\n",
    "           s(i-1, j) + 1 - to delete symbol from ith string\n",
    "           s(i, j-1) + 1 - to delte symbol from the j-th string\n",
    "           tae the min\n",
    "        the initialisation takes place        \n",
    "          ø h o r s e\n",
    "        ø 0 1 2 3 4 5\n",
    "        r 1 1 2 2 3 4\n",
    "        o 2 2 1 2 3 4\n",
    "        s 3 3 2 3 2 3\n",
    "        ans: 3        \n",
    "        complexity: O(mn)\n",
    "        \n",
    "        A very interesting idea with heap:\n",
    "        heap = [[0, s, t]]\n",
    "        seen = set()\n",
    "\n",
    "        while heap:\n",
    "            dist, s, t = heapq.heappop(heap)\n",
    "\n",
    "            if (s, t) in seen:\n",
    "                continue\n",
    "\n",
    "            seen.add((s, t))\n",
    "\n",
    "            if s == t:\n",
    "                return dist\n",
    "\n",
    "            if s and t and s[0] == t[0]:\n",
    "                heapq.heappush(heap, [dist, s[1:], t[1:]])\n",
    "            else:\n",
    "                if s:\n",
    "                    heapq.heappush(heap, [dist + 1, s[1:], t])\n",
    "                if t:\n",
    "                    heapq.heappush(heap, [dist + 1, s, t[1:]])\n",
    "                if s and t:\n",
    "                    heapq.heappush(heap, [dist + 1, s[1:], t[1:]])\n",
    "\n",
    "        \"\"\"                                    \n",
    "        n = len(word1)\n",
    "        m = len(word2)                \n",
    "        if n == 0 or m == 0:\n",
    "            return max(m,n)                        \n",
    "        s = [[0]*(m+1) for _ in range(n+1)]                \n",
    "        for i in range(1, n+1): s[i][0] = i\n",
    "        for j in range(1, m+1): s[0][j] = j                                            \n",
    "        for i in range(1, n+1):\n",
    "            for j in range(1, m+1):\n",
    "                if word1[i-1] == word2[j-1]:\n",
    "                    s[i][j] = s[i-1][j-1]\n",
    "                else:\n",
    "                    s[i][j] = min(s[i-1][j-1] + 1, s[i][j-1] + 1, s[i-1][j] + 1)\n",
    "        return s[n][m]"
   ]
  },
  {
   "cell_type": "code",
   "execution_count": 5,
   "metadata": {},
   "outputs": [
    {
     "data": {
      "text/plain": [
       "2"
      ]
     },
     "execution_count": 5,
     "metadata": {},
     "output_type": "execute_result"
    }
   ],
   "source": [
    "editDistance(\"rose\" ,\"horse\")"
   ]
  }
 ],
 "metadata": {
  "kernelspec": {
   "display_name": "Python 3",
   "language": "python",
   "name": "python3"
  },
  "language_info": {
   "codemirror_mode": {
    "name": "ipython",
    "version": 3
   },
   "file_extension": ".py",
   "mimetype": "text/x-python",
   "name": "python",
   "nbconvert_exporter": "python",
   "pygments_lexer": "ipython3",
   "version": "3.6.3"
  }
 },
 "nbformat": 4,
 "nbformat_minor": 2
}
