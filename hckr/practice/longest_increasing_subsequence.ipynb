{
 "cells": [
  {
   "cell_type": "code",
   "execution_count": 3,
   "metadata": {},
   "outputs": [],
   "source": [
    "from typing import List"
   ]
  },
  {
   "cell_type": "code",
   "execution_count": 5,
   "metadata": {},
   "outputs": [],
   "source": [
    "def longest_increasing_subsequeence(nums: List[int]) -> int:\n",
    "    \"\"\"\n",
    "    returns longest increasing subsequence\n",
    "    complexity O(n^2)\n",
    "    memory: O(n)\n",
    "    \n",
    "    idea:  define an array with the longest increasing subsequences IF the element is included    \n",
    "    nums = [3, 4, 0, -1, 1, 2]        \n",
    "    s =    [1, 1  1   1  1  1]    \n",
    "    set up 2 indexes, i, j = 0,1 such that i < j\n",
    "    iterate i towards j if nums[i] < nums[j] AND s[i] + 1 > s[j] override s[j]\n",
    "    return maximum os s[j]    \n",
    "    \"\"\"    \n",
    "    if not nums:\n",
    "        return 0\n",
    "    n = len(nums)    \n",
    "    if n == 1:\n",
    "        return 1\n",
    "    lis = 1 \n",
    "    s = [1]*n\n",
    "    for j in range(1, n):\n",
    "        for i in range(0, j):\n",
    "            if nums[i] < nums[j]:\n",
    "                s[j] = max(s[j], s[i] + 1)\n",
    "                if s[j] > lis:\n",
    "                    lis = s[j]\n",
    "    return lis\n",
    "    "
   ]
  }
 ],
 "metadata": {
  "kernelspec": {
   "display_name": "Python 3",
   "language": "python",
   "name": "python3"
  },
  "language_info": {
   "codemirror_mode": {
    "name": "ipython",
    "version": 3
   },
   "file_extension": ".py",
   "mimetype": "text/x-python",
   "name": "python",
   "nbconvert_exporter": "python",
   "pygments_lexer": "ipython3",
   "version": "3.6.3"
  }
 },
 "nbformat": 4,
 "nbformat_minor": 2
}
