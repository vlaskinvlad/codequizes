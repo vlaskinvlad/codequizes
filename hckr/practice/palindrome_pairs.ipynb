{
 "cells": [
  {
   "cell_type": "code",
   "execution_count": 34,
   "metadata": {},
   "outputs": [
    {
     "name": "stdout",
     "output_type": "stream",
     "text": [
      "{'a': {'items': [0], 'b': {'items': [1]}}}\n",
      "{'a': {'items': [0], 'b': {'items': [1]}}}\n"
     ]
    },
    {
     "data": {
      "text/plain": [
       "[]"
      ]
     },
     "execution_count": 34,
     "metadata": {},
     "output_type": "execute_result"
    }
   ],
   "source": [
    "from typing import List, Dict\n",
    "\n",
    "def palindromePairs(words):\n",
    "    \"\"\"\n",
    "    :type words: List[str]\n",
    "    :rtype: List[List[int]]\n",
    "\n",
    "    a step #1 define sort trie structure, put all words in there        \n",
    "    pick the workd, start iterating from tail to head        \n",
    "    keep following the trie\n",
    "\n",
    "    if trie path is empty, no solution\n",
    "    if trie paht leads to a set of indices,\n",
    "    check if the remainde of a string is a palindrome,\n",
    "    if yes -> form an anwer trie_indies X current_index        \n",
    "    \"\"\"        \n",
    "\n",
    "    def is_palindrome(s):\n",
    "        return s == s[::-1]\n",
    "    trie = dict()  \n",
    "    for i,w in enumerate(words):\n",
    "        if len(w) == 0:\n",
    "            if \"\" not in trie:\n",
    "                trie[\"\"] = dict()\n",
    "            if \"items\" not in trie[\"\"]:\n",
    "                trie[\"\"][\"items\"] = []\n",
    "            trie[\"\"][\"items\"].append(i)\n",
    "            continue\n",
    "            \n",
    "        pointer = trie        \n",
    "        for j, c in enumerate(w):                                                    \n",
    "            if c not in pointer:                    \n",
    "                pointer[c] = dict()\n",
    "            pointer = pointer[c]\n",
    "            if j == len(w) - 1:\n",
    "                if \"items\" not in pointer:\n",
    "                    pointer[\"items\"] = [i]\n",
    "                else:\n",
    "                    pointer[\"items\"].append(i)   \n",
    "                                    \n",
    "    def find_pair(k: int, w: str, trie: Dict ) -> List[List[int]]:\n",
    "#         if is_palindrome(w):\n",
    "#             if \"\" in trie and \"items\" in trie[\"\"]:\n",
    "#                 items = trie[\"\"][\"items\"]\n",
    "#                 return [[i, k] for i in items if i!=k] + [[k, i] for i in items if i!=k]\n",
    "        pointer = trie\n",
    "        print(trie)\n",
    "        w_hat = w[::-1]\n",
    "        for i, c in enumerate(w_hat):\n",
    "            if c in pointer:\n",
    "                pointer = pointer[c]\n",
    "                if i == len(w_hat) - 1:\n",
    "                    if \"items\" in pointer:\n",
    "                        return [[i, k] for i in pointer['items'] if i!=k]                             \n",
    "            else:\n",
    "                if \"items\" in pointer and is_palindrome(w_hat[i:]):\n",
    "                    return [[i, k] for i in pointer[\"items\"]]          \n",
    "                else:\n",
    "                    return []\n",
    "        if \"items\" in pointer:\n",
    "            return [[i, k] for i in items if i!=k]\n",
    "        return []\n",
    "    res = []\n",
    "    for k, w in enumerate(words):\n",
    "        res += find_pair(k, w, trie)\n",
    "    return res\n",
    "palindromePairs([\"a\",\"ab\"])"
   ]
  }
 ],
 "metadata": {
  "kernelspec": {
   "display_name": "Python 3",
   "language": "python",
   "name": "python3"
  },
  "language_info": {
   "codemirror_mode": {
    "name": "ipython",
    "version": 3
   },
   "file_extension": ".py",
   "mimetype": "text/x-python",
   "name": "python",
   "nbconvert_exporter": "python",
   "pygments_lexer": "ipython3",
   "version": "3.6.3"
  }
 },
 "nbformat": 4,
 "nbformat_minor": 2
}
