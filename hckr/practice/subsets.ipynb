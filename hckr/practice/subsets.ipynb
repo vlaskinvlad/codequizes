{
 "cells": [
  {
   "cell_type": "code",
   "execution_count": 3,
   "metadata": {},
   "outputs": [],
   "source": [
    "from typing import List"
   ]
  },
  {
   "cell_type": "markdown",
   "metadata": {},
   "source": [
    "### neat solution with repeating lists"
   ]
  },
  {
   "cell_type": "code",
   "execution_count": 6,
   "metadata": {},
   "outputs": [
    {
     "data": {
      "text/plain": [
       "[[], [1], [2], [1, 2], [3], [1, 3], [2, 3], [1, 2, 3]]"
      ]
     },
     "execution_count": 6,
     "metadata": {},
     "output_type": "execute_result"
    }
   ],
   "source": [
    "def subsets_neat(nums: List[int]) -> List[List[int]]:\n",
    "    if not nums:\n",
    "        return [[]]\n",
    "    res = [[]]\n",
    "    for i in range(len(nums)):\n",
    "        res += [r + [nums[i]] for r in res]\n",
    "    return res\n",
    "# \"\"\"\n",
    "# debug:\n",
    "# nums = [1,2,3]\n",
    "# res = [[], [1]]\n",
    "# i =  0\n",
    "# res = [[], [1]]\n",
    "# i = 1\n",
    "# res = [[], [1], [2], [1,2]]\n",
    "# i = 3\n",
    "# res = [[], [1], [2], [1,2], [3], [1,3], [2,3], [1,2,3]]\n",
    "# \"\"\"\n",
    "\n",
    "subsets_neat([1,2,3])"
   ]
  },
  {
   "cell_type": "markdown",
   "metadata": {},
   "source": [
    "### Backtracking alternative"
   ]
  },
  {
   "cell_type": "code",
   "execution_count": 11,
   "metadata": {},
   "outputs": [
    {
     "data": {
      "text/plain": [
       "[[], [1], [1, 2], [2]]"
      ]
     },
     "execution_count": 11,
     "metadata": {},
     "output_type": "execute_result"
    }
   ],
   "source": [
    "\"\"\"\n",
    "back track tree solution\n",
    "         ø\n",
    "    /    |      \\\n",
    "   1     2      3\n",
    " /  \\     \\\n",
    "1,2  1,3   2,3\n",
    "|\n",
    "1,2,3\n",
    "\n",
    "Depth first traversal of the tree below: \n",
    "- each child has to track the netsted structure of it's path from the root, it has to go to the method\n",
    "- make sure the tree cut over diagonal (e.g. we go under 3)\n",
    "\"\"\"\n",
    "\n",
    "\n",
    "def subsets_backtrack(nums: List[int]) -> List[List[int]]:\n",
    "    if not nums: \n",
    "        return [[]]\n",
    "    \n",
    "    def subsets_aux(source, sink, path_set, starting_index):\n",
    "        sink.append(path_set[:]) # deal with the node itself               \n",
    "        for i in range(starting_index, len(source)):\n",
    "            path_set.append(source[i])\n",
    "            subsets_aux(source, sink, path_set, i+1)  \n",
    "            path_set.pop() # back_track \n",
    "        \n",
    "    res = []    \n",
    "    subsets_aux(nums, res, [], 0)\n",
    "    return res\n",
    "\"\"\"\n",
    "nums = [1, 2], alias s = subsets_aux\n",
    "res = [[], [1], [1,2], [2]]\n",
    "s([], 0)\n",
    "  s([1], 1)\n",
    "     s([1, 2], 2)\n",
    "       [1]\n",
    "    []\n",
    "  s([2], 2)        \n",
    "\"\"\"\n",
    "\n",
    "subsets_backtrack([1,2])     "
   ]
  },
  {
   "cell_type": "markdown",
   "metadata": {},
   "source": [
    "### Subsets with duplicated backtrack"
   ]
  },
  {
   "cell_type": "code",
   "execution_count": 34,
   "metadata": {},
   "outputs": [
    {
     "data": {
      "text/plain": [
       "[[], [1], [2], [1, 1], [1, 2], [1, 1, 2], [1, 1, 2, 2], [1, 1, 2, 2, 2]]"
      ]
     },
     "execution_count": 34,
     "metadata": {},
     "output_type": "execute_result"
    }
   ],
   "source": [
    "import collections\n",
    "\n",
    "def subsets_level_dup(nums: List[int]) -> List[List[int]]:\n",
    "    if not nums:\n",
    "        return [[]]    \n",
    "    res = []\n",
    "    nums.sort()\n",
    "    q = collections.deque()\n",
    "    count = 0        \n",
    "    q.append(([], 0))\n",
    "    count += 1    \n",
    "    while q:\n",
    "        level_set = set()\n",
    "        while count > 0:\n",
    "            path, starting_index = q.pop()\n",
    "            res.append(path)\n",
    "            count -= 1\n",
    "            for i in range(starting_index, len(nums)):\n",
    "                #if i < len(nums) and nums[i] == nums[i+1]: continue # that's the substitution for the level set\n",
    "                if nums[i] in level_set: continue\n",
    "                level_set.add(nums[i])\n",
    "                z = path[:]\n",
    "                z.append(nums[i])\n",
    "                q.appendleft((z, i+1))        \n",
    "        count = len(q)\n",
    "    return res\n",
    "subsets_level_dup([1,1, 2, 2, 2])"
   ]
  },
  {
   "cell_type": "code",
   "execution_count": 25,
   "metadata": {},
   "outputs": [
    {
     "data": {
      "text/plain": [
       "[[], [1], [2], [1, 1], [1, 2], [1, 1, 2]]"
      ]
     },
     "execution_count": 25,
     "metadata": {},
     "output_type": "execute_result"
    }
   ],
   "source": []
  },
  {
   "cell_type": "code",
   "execution_count": null,
   "metadata": {},
   "outputs": [],
   "source": [
    "# back track tree solution\n",
    "\"\"\"\n",
    "          ø\n",
    "    /     |      \\\n",
    "   1      1*      3\n",
    " /  \\     \\\n",
    "1,1  1,3   1,3*\n",
    "|\n",
    "1,1,3\n",
    "\"\"\"\n",
    "\n",
    "\n",
    "# 1, 1, 1, 3\n",
    "\"\"\"\n",
    "      ø\n",
    "    /         \n",
    "   1          1          1         3  \n",
    "   /     \\         \n",
    "  1,1      1,1    \n",
    "|     \\         \\ \n",
    "{1,1,1} {1,1,3}  {1,1,3}\n",
    "|\n",
    "1,1,1,3\n",
    "\n",
    "ideas:\n",
    "- sort the array, to easy track duplicates\n",
    "- skip call to the child if it's the same as the previos one\n",
    "\n",
    "fix ideas:\n",
    "set up a bfs for a graph, an maintain al \n",
    "tree level traversal with tracking elements we're adding on to the level\n",
    "\"\"\"\n",
    "import collections\n",
    "\n",
    "def subsets_level_dup(nums: List[int]) -> List[List[int]]:\n",
    "    if not nums:\n",
    "        return [[]]\n",
    "    \n",
    "    res = []\n",
    "    q = collections.deque()\n",
    "    count = 0\n",
    "    \n",
    "    q.append(([], 0))\n",
    "    count += 1\n",
    "    \n",
    "    while q:\n",
    "        while count > 0:\n",
    "            path, starting_index = q.pop()\n",
    "            res.append(path)\n",
    "            count -= 1\n",
    "            for i in range(starting_index, len(nums)):\n",
    "                z = path[:]\n",
    "                z.append(nums[i])\n",
    "                q.appendleft((z, i+1))        \n",
    "        count = len(q)\n",
    "    return res\n",
    "\n",
    "def subsets_backtrack_dup(nums: List[int]) -> List[List[int]]:\n",
    "    \"\"\"    \n",
    "    return: subsets, accounting for duplicates elements in the array\n",
    "    \"\"\"\n",
    "    if not nums:\n",
    "        return [[]]    \n",
    "    # source is sorted\n",
    "    def backtrack_aux(source, sink, path, starting_index):\n",
    "        sink.append(path[:]) # deal with current node        \n",
    "        # deal with childrent\n",
    "        for i in range(starting_index, len(source)):\n",
    "            if i > 0 and source[i] == source[i-1]:\n",
    "                continue\n",
    "            else: # either i == 0 or s[i] != s[i-1]\n",
    "                path.append(source[i])\n",
    "                backtrack_aux(source, sink, path, i)\n",
    "                path.pop()\n",
    "                \n",
    "    res = []\n",
    "    backtrack_aux(nums, res, [], 0)\n",
    "    return res\n",
    "    \n",
    "\n",
    "\"\"\"\n",
    "correct anwer: [[],[1], [3], [1,3], [1,1,3]]\n",
    "1,1,3\n",
    "res = [[], [1], [3], [1,3]]\n",
    "\n",
    "b([],0)\n",
    "   b([1], 1)\n",
    "       continue\n",
    "       b([1,3], 2)\n",
    "       \n",
    "       [1]\n",
    "   []\n",
    "   b([3], 2)\n",
    "\"\"\""
   ]
  }
 ],
 "metadata": {
  "kernelspec": {
   "display_name": "Python 3",
   "language": "python",
   "name": "python3"
  },
  "language_info": {
   "codemirror_mode": {
    "name": "ipython",
    "version": 3
   },
   "file_extension": ".py",
   "mimetype": "text/x-python",
   "name": "python",
   "nbconvert_exporter": "python",
   "pygments_lexer": "ipython3",
   "version": "3.6.3"
  }
 },
 "nbformat": 4,
 "nbformat_minor": 2
}
