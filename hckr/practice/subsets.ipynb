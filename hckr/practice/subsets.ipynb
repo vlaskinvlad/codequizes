{
 "cells": [
  {
   "cell_type": "code",
   "execution_count": 2,
   "metadata": {},
   "outputs": [],
   "source": [
    "from typing import List"
   ]
  },
  {
   "cell_type": "code",
   "execution_count": 6,
   "metadata": {},
   "outputs": [
    {
     "data": {
      "text/plain": [
       "[[], [1], [2], [1, 2], [3], [1, 3], [2, 3], [1, 2, 3]]"
      ]
     },
     "execution_count": 6,
     "metadata": {},
     "output_type": "execute_result"
    }
   ],
   "source": [
    "def subsets_neat(nums: List[int]) -> List[List[int]]:\n",
    "    if not nums:\n",
    "        return [[]]\n",
    "    res = [[]]\n",
    "    for i in range(len(nums)):\n",
    "        res += [r + [nums[i]] for r in res]\n",
    "    return res\n",
    "# \"\"\"\n",
    "# debug:\n",
    "# nums = [1,2,3]\n",
    "# res = [[], [1]]\n",
    "# i =  0\n",
    "# res = [[], [1]]\n",
    "# i = 1\n",
    "# res = [[], [1], [2], [1,2]]\n",
    "# i = 3\n",
    "# res = [[], [1], [2], [1,2], [3], [1,3], [2,3], [1,2,3]]\n",
    "# \"\"\"\n",
    "\n",
    "subsets_neat([1,2,3])"
   ]
  }
 ],
 "metadata": {
  "kernelspec": {
   "display_name": "Python 3",
   "language": "python",
   "name": "python3"
  },
  "language_info": {
   "codemirror_mode": {
    "name": "ipython",
    "version": 3
   },
   "file_extension": ".py",
   "mimetype": "text/x-python",
   "name": "python",
   "nbconvert_exporter": "python",
   "pygments_lexer": "ipython3",
   "version": "3.6.3"
  }
 },
 "nbformat": 4,
 "nbformat_minor": 2
}
