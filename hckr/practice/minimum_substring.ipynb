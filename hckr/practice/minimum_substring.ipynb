{
 "cells": [
  {
   "cell_type": "code",
   "execution_count": 5,
   "metadata": {},
   "outputs": [
    {
     "data": {
      "text/plain": [
       "({'a': 0, 'b': 0, 'c': 0}, {'a', 'b', 'c'})"
      ]
     },
     "execution_count": 5,
     "metadata": {},
     "output_type": "execute_result"
    }
   ],
   "source": [
    "t = \"abc\"\n",
    "d = dict(((c,0) for c in t))\n",
    "e = set(d.keys())\n",
    "d, e\n"
   ]
  },
  {
   "cell_type": "code",
   "execution_count": 40,
   "metadata": {},
   "outputs": [
    {
     "name": "stdout",
     "output_type": "stream",
     "text": [
      "len: 0, i: 0, j: 0\n",
      "2 0 1\n"
     ]
    },
    {
     "data": {
      "text/plain": [
       "'A'"
      ]
     },
     "execution_count": 40,
     "metadata": {},
     "output_type": "execute_result"
    }
   ],
   "source": [
    "import collections\n",
    "def min_substring(s: str, t: str) -> str:\n",
    "    target_counts = collections.Counter(t)\n",
    "    target_len = len(set(t))    \n",
    "    i = 0\n",
    "    min_window, start, end = len(s)+1, -1, -1\n",
    "    for j, c in enumerate(s):\n",
    "        if c in target_counts:\n",
    "            target_counts[c] -= 1\n",
    "            if target_counts[c] == 0: target_len -= 1                \n",
    "            if target_len == 0:\n",
    "                do =True\n",
    "                while do and i <= j: \n",
    "                    if s[i] not in target_counts:\n",
    "                        i += 1\n",
    "                    else:\n",
    "                        if target_counts[s[i]] >= 0: \n",
    "                            do = False\n",
    "                        else: #target_counts[s[i]] < 0:\n",
    "                            target_counts[s[i]] += 1 \n",
    "                            i += 1\n",
    "                if j-i+1 < min_window:\n",
    "                    min_window, start, end = j-i+1, i, j  \n",
    "    return s[start:end+1] if min_window != len(s)+1 else \"\"\n",
    "\"A\"\n",
    "\"A\"\n",
    "min_substring(\"AB\", \"A\")"
   ]
  },
  {
   "cell_type": "code",
   "execution_count": 23,
   "metadata": {},
   "outputs": [
    {
     "data": {
      "text/plain": [
       "dict_items([('a', 2)])"
      ]
     },
     "execution_count": 23,
     "metadata": {},
     "output_type": "execute_result"
    }
   ],
   "source": [
    "e  = collections.Counter(\"aa\")\n",
    "e.items()"
   ]
  },
  {
   "cell_type": "code",
   "execution_count": 8,
   "metadata": {},
   "outputs": [
    {
     "data": {
      "text/plain": [
       "{'a': 1, 'b': 1, 'c': 1}"
      ]
     },
     "execution_count": 8,
     "metadata": {},
     "output_type": "execute_result"
    }
   ],
   "source": [
    "import itertools\n",
    "{ c:len(list(gr)) for c, gr in itertools.groupby(sorted(t))}"
   ]
  }
 ],
 "metadata": {
  "kernelspec": {
   "display_name": "Python 3",
   "language": "python",
   "name": "python3"
  },
  "language_info": {
   "codemirror_mode": {
    "name": "ipython",
    "version": 3
   },
   "file_extension": ".py",
   "mimetype": "text/x-python",
   "name": "python",
   "nbconvert_exporter": "python",
   "pygments_lexer": "ipython3",
   "version": "3.6.3"
  }
 },
 "nbformat": 4,
 "nbformat_minor": 2
}
