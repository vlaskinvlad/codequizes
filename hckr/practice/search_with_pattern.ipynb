{
 "cells": [
  {
   "cell_type": "code",
   "execution_count": 47,
   "metadata": {},
   "outputs": [
    {
     "data": {
      "text/plain": [
       "True"
      ]
     },
     "execution_count": 47,
     "metadata": {},
     "output_type": "execute_result"
    }
   ],
   "source": [
    "import collections\n",
    "\n",
    "class Node(object):\n",
    "    def __init__(self):\n",
    "        self.adj = collections.defaultdict(Node)\n",
    "        self.is_word = False\n",
    "\n",
    "    def get(self, key):\n",
    "        if key == '.':\n",
    "            for v in self.adj.values():\n",
    "                yield v\n",
    "        else:\n",
    "            yield self.adj.get(key)            \n",
    "            \n",
    "    def __str__(self):\n",
    "        s = \"node (word: %s)\" % self.is_word\n",
    "        for k,a in self.adj.items():\n",
    "            s += \" %s -> %s\" % (k, a.__str__())\n",
    "        return s\n",
    "        \n",
    "        \n",
    "\n",
    "class WordDictionary:\n",
    "\n",
    "    def __init__(self):\n",
    "        \"\"\"\n",
    "        Initialize your data structure here.\n",
    "        \"\"\"\n",
    "        self.root = Node()\n",
    "        \n",
    "\n",
    "    def addWord(self, word):\n",
    "        \"\"\"\n",
    "        Adds a word into the data structure.\n",
    "        :type word: str\n",
    "        :rtype: void\n",
    "        \"\"\"\n",
    "        curr, prev = self.root, None \n",
    "        for w in word:\n",
    "            curr = curr.adj[w]            \n",
    "        curr.is_word = True       \n",
    "\n",
    "    def search(self, word):\n",
    "        \"\"\"\n",
    "        Returns if the word is in the data structure. A word could contain the dot character '.' to represent any one letter.\n",
    "        :type word: str\n",
    "        :rtype: bool\n",
    "        \"\"\"\n",
    "        def search_aux(i, curr):\n",
    "            if i == len(word):\n",
    "                return curr is not None and curr.is_word            \n",
    "            w = word[i]\n",
    "            for nbh in curr.get(w):\n",
    "                res = search_aux(i+1, nbh)\n",
    "                if res: return True\n",
    "            return False\n",
    "                \n",
    "        return  search_aux(0, self.root)\n",
    "\n",
    "wd = WordDictionary()\n",
    "wd.addWord('abc')\n",
    "wd.addWord('bcd')\n",
    "wd.search('..c')"
   ]
  },
  {
   "cell_type": "code",
   "execution_count": 37,
   "metadata": {},
   "outputs": [
    {
     "data": {
      "text/plain": [
       "False"
      ]
     },
     "execution_count": 37,
     "metadata": {},
     "output_type": "execute_result"
    }
   ],
   "source": []
  }
 ],
 "metadata": {
  "kernelspec": {
   "display_name": "Python 3",
   "language": "python",
   "name": "python3"
  },
  "language_info": {
   "codemirror_mode": {
    "name": "ipython",
    "version": 3
   },
   "file_extension": ".py",
   "mimetype": "text/x-python",
   "name": "python",
   "nbconvert_exporter": "python",
   "pygments_lexer": "ipython3",
   "version": "3.6.3"
  }
 },
 "nbformat": 4,
 "nbformat_minor": 2
}
