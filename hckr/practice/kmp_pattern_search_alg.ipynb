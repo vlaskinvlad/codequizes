{
 "cells": [
  {
   "cell_type": "code",
   "execution_count": 2,
   "metadata": {},
   "outputs": [],
   "source": [
    "from typing import List"
   ]
  },
  {
   "cell_type": "code",
   "execution_count": 11,
   "metadata": {},
   "outputs": [
    {
     "data": {
      "text/plain": [
       "[-1, -1, 0, 1, 2, -1, 0]"
      ]
     },
     "execution_count": 11,
     "metadata": {},
     "output_type": "execute_result"
    }
   ],
   "source": [
    "def prefix_function(p: str) -> List[int]:\n",
    "    r = [-1]*len(p)\n",
    "    k = -1\n",
    "    for i in range(1, len(p)):\n",
    "        while k >= 0 and p[k+1] != p[i]:\n",
    "            k = r[k]\n",
    "        if p[k+1] == p[i]:\n",
    "            k += 1\n",
    "        r[i] = k\n",
    "    return r\n",
    "\"\"\"\n",
    "debug: \n",
    "                i \n",
    "     0 1 2 3 4 5 6\n",
    "p =  a b a b a c a\n",
    "r =  0 0 1 2 3 0 1\n",
    "k = 2\n",
    "\"\"\"\n",
    "prefix_function(\"ababaca\")"
   ]
  },
  {
   "cell_type": "code",
   "execution_count": null,
   "metadata": {},
   "outputs": [],
   "source": []
  },
  {
   "cell_type": "code",
   "execution_count": 16,
   "metadata": {},
   "outputs": [
    {
     "data": {
      "text/plain": [
       "[0, 2, 4]"
      ]
     },
     "execution_count": 16,
     "metadata": {},
     "output_type": "execute_result"
    }
   ],
   "source": [
    "def kmp_search(t: str, p: str) -> List[int]:\n",
    "    \"\"\"\n",
    "    param: t - text to search the pattern\n",
    "    param: p - pattern to search in t\n",
    "    return: shifts of p in t, such that t[i:i+len(p)+1] matches pattern\n",
    "    \"\"\"\n",
    "    n, m = len(t), len(p)\n",
    "    if m > n:\n",
    "        return []\n",
    "    if m == n:\n",
    "        return [0] if t == p else []\n",
    "    if n == 0 or m == 0:\n",
    "        return []\n",
    "    r = prefix_function(p)\n",
    "    q = -1 # size of matched pattern\n",
    "    res = []\n",
    "    for i in range(n):\n",
    "        while q >= 0 and p[q+1] != t[i]:\n",
    "            q = r[q]\n",
    "        if p[q+1] == t[i]:\n",
    "            q += 1\n",
    "        if q == m-1:\n",
    "            res.append(i-m)\n",
    "            q = r[q]\n",
    "    return list(map(lambda x: x+1, res))\n",
    "\n",
    "\"\"\"\n",
    "debug:\n",
    "            *\n",
    "   t = \"abababca\"\n",
    "         *  \n",
    "   p = \"abab\"\n",
    "   r = [0,0,1,2]\n",
    "   q = 1\n",
    "   res = [0, ]\n",
    "\"\"\"\n",
    "kmp_search(\"abababca\", \"ab\")"
   ]
  },
  {
   "cell_type": "code",
   "execution_count": null,
   "metadata": {},
   "outputs": [],
   "source": []
  },
  {
   "cell_type": "code",
   "execution_count": null,
   "metadata": {},
   "outputs": [],
   "source": []
  }
 ],
 "metadata": {
  "kernelspec": {
   "display_name": "Python 3",
   "language": "python",
   "name": "python3"
  },
  "language_info": {
   "codemirror_mode": {
    "name": "ipython",
    "version": 3
   },
   "file_extension": ".py",
   "mimetype": "text/x-python",
   "name": "python",
   "nbconvert_exporter": "python",
   "pygments_lexer": "ipython3",
   "version": "3.6.3"
  }
 },
 "nbformat": 4,
 "nbformat_minor": 2
}
