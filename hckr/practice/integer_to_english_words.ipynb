{
 "cells": [
  {
   "cell_type": "code",
   "execution_count": 1,
   "metadata": {},
   "outputs": [
    {
     "data": {
      "text/plain": [
       "'Twelve Thousand Three Hundred Forty Five'"
      ]
     },
     "execution_count": 1,
     "metadata": {},
     "output_type": "execute_result"
    }
   ],
   "source": [
    "\"12345\"\n",
    "\"Twelve Thousand Three Hundred Forty Five\""
   ]
  },
  {
   "cell_type": "code",
   "execution_count": 59,
   "metadata": {},
   "outputs": [
    {
     "data": {
      "text/plain": [
       "'Two Hundred  Thousand Ten Thousand One Hundred '"
      ]
     },
     "execution_count": 59,
     "metadata": {},
     "output_type": "execute_result"
    }
   ],
   "source": [
    "def integer_to_word(a: int) -> str: \n",
    "    ones = [\"zero\", \"One\", \"Two\", \"Three\", \"Four\", \"Five\", \"Six\", \"Seven\", \"Eight\", \"Nine\"]\n",
    "    tens = [\"Ten\", \"Eleven\", \"Twelve\", \"Thirten\", \"Fourteen\", \"Fifteen\", \"Sixteen\", \"Seventeen\",\"Eighteen\", \"Nineteen\"]\n",
    "    twenties = [\"Twenty\", \"Thirty\", \"Fourty\", \"Fifty\", \"Sixty\", \"Seventy\", \"Eighty\", \"Ninety\"]\n",
    "    thousands = [\"Hundred\", \"Thousand\", \"Million\", \"Billion\"]    \n",
    "    def aux(n: int) -> str:\n",
    "        if n == 0: return \"\"\n",
    "        if n < 10: return ones[n]\n",
    "        if 10<= n < 20: return tens[n-10]\n",
    "        if 20<= n < 100: return twenties[n//10 - 2] + \" \" + aux(n%10) \n",
    "        if 100 <= n < 1000: return ones[n//100] + \" Hundred \" + aux(n%100)\n",
    "        if 1000<= n < 10000: return ones[n//1000] + \" Thousand \" + aux(n%1000)\n",
    "        if 10000<= n < 20000: return tens[n//1000 - 10] + \" Thousand \" + aux(n%1000)\n",
    "        if 20000<= n < 100000: return twenties[n//10000 - 2] +\" Thousand \" + aux(n%10000)\n",
    "        if 100000<= n < 1000000: return ones[n//100000] + \" Hundred  Thousand \" + aux(n%100000)\n",
    "        if 1000000<= n < 1000000: return ones[n//1000000] + \" Million \" + aux(n%1000000)\n",
    "        if 10000000<= n < 2000000: return twenties[n//1000000-2] + \" Million \" + aux(n%1000000)        \n",
    "    return aux(a)\n",
    "\n",
    "integer_to_word(210100)  "
   ]
  }
 ],
 "metadata": {
  "kernelspec": {
   "display_name": "Python 3",
   "language": "python",
   "name": "python3"
  },
  "language_info": {
   "codemirror_mode": {
    "name": "ipython",
    "version": 3
   },
   "file_extension": ".py",
   "mimetype": "text/x-python",
   "name": "python",
   "nbconvert_exporter": "python",
   "pygments_lexer": "ipython3",
   "version": "3.6.3"
  }
 },
 "nbformat": 4,
 "nbformat_minor": 2
}
