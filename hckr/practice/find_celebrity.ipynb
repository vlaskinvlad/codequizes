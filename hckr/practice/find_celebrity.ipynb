{
 "cells": [
  {
   "cell_type": "code",
   "execution_count": 7,
   "metadata": {},
   "outputs": [],
   "source": [
    "import collections"
   ]
  },
  {
   "cell_type": "code",
   "execution_count": 16,
   "metadata": {},
   "outputs": [],
   "source": [
    "m = [[0, 0],\n",
    "     [0, 0]\n",
    "    ]\n",
    "def knows(a, b): \n",
    "    return m[a][b]"
   ]
  },
  {
   "cell_type": "markdown",
   "metadata": {},
   "source": [
    "if we had no cycle, we could "
   ]
  },
  {
   "cell_type": "code",
   "execution_count": 22,
   "metadata": {},
   "outputs": [],
   "source": [
    "\"\"\" think through this solution\n",
    "        start = 0\n",
    "        for i in range(n):\n",
    "            if knows(start,i):\n",
    "                start = i\n",
    "        celeb = start\n",
    "        \n",
    "        if any(knows(celeb,i) for i in range(celeb)):\n",
    "            return -1\n",
    "        if any(not knows(i,celeb) for i in range(n)):\n",
    "            return -1\n",
    "        return celeb\n",
    "\"\"\"\n",
    "pass"
   ]
  },
  {
   "cell_type": "code",
   "execution_count": 20,
   "metadata": {},
   "outputs": [
    {
     "data": {
      "text/plain": [
       "-1"
      ]
     },
     "execution_count": 20,
     "metadata": {},
     "output_type": "execute_result"
    }
   ],
   "source": [
    "def find_celebrity_better(n: int):\n",
    "    \"\"\"\n",
    "        if celebrity exists, it means it's a root of a tree\n",
    "        we start from some node and got and traverse it to the top        \n",
    "        \n",
    "        \n",
    "        check(K)\n",
    "        \n",
    "        if K is a celebrity\n",
    "        it means that everyone knows k         \n",
    "        knows(i, K): T => K - still might be a celebrity AND i - is not a celebrity\n",
    "                     F => K - no information is updated OR i is a celebrity                     \n",
    "        set the candidates = [0, 1, 2, 3]        \n",
    "        [0, 1, 2, 3]       \n",
    "    \"\"\"\n",
    "    if n <= 1:\n",
    "        return -1\n",
    "    # n >= 2\n",
    "    candidates = [i for i in range(n)]\n",
    "    while candidates:\n",
    "        if len(candidates) == 1:\n",
    "            break\n",
    "        i, j = candidates.pop(), candidates.pop()\n",
    "        a, b = knows(i,j), knows(j,i)\n",
    "        c = a^b            \n",
    "        if c:\n",
    "            if a: \n",
    "                candidates.append(j) \n",
    "            elif b :\n",
    "                candidates.append(i) \n",
    "    if not candidates: \n",
    "        return -1\n",
    "    maybe_celebrity = candidates.pop()\n",
    "    for z in range(n):\n",
    "        if z!= maybe_celebrity:\n",
    "            if knows(maybe_celebrity, z): return -1\n",
    "    return maybe_celebrity   \n",
    "find_celebrity_better(2)"
   ]
  },
  {
   "cell_type": "code",
   "execution_count": 15,
   "metadata": {},
   "outputs": [
    {
     "data": {
      "text/plain": [
       "1"
      ]
     },
     "execution_count": 15,
     "metadata": {},
     "output_type": "execute_result"
    }
   ],
   "source": []
  },
  {
   "cell_type": "code",
   "execution_count": 12,
   "metadata": {},
   "outputs": [
    {
     "name": "stdout",
     "output_type": "stream",
     "text": [
      "defaultdict(<function find_celebrity.<locals>.<lambda> at 0x7fc1084338c8>, {1: 1}) defaultdict(<function find_celebrity.<locals>.<lambda> at 0x7fc1084337b8>, {0: 1})\n"
     ]
    },
    {
     "data": {
      "text/plain": [
       "1"
      ]
     },
     "execution_count": 12,
     "metadata": {},
     "output_type": "execute_result"
    }
   ],
   "source": [
    "def find_celebrity(n: int):\n",
    "    if n == 1:\n",
    "        return -1\n",
    "    indegrees = collections.defaultdict(lambda: 0)\n",
    "    outdegrees = collections.defaultdict(lambda: 0)\n",
    "    for i in range(n):\n",
    "        for j in range(n):\n",
    "            if j != i:\n",
    "                n_ij = knows(i, j)\n",
    "                if n_ij:\n",
    "                    outdegrees[i] += 1\n",
    "                    indegrees[j] += 1                         \n",
    "    print(indegrees, outdegrees)\n",
    "    candidates = list(filter(lambda k: outdegrees[k] == 0, range(n)))\n",
    "    for c in candidates: \n",
    "        if indegrees[c] == n-1:\n",
    "            return c\n",
    "    return -1\n",
    "find_celebrity(2)"
   ]
  }
 ],
 "metadata": {
  "kernelspec": {
   "display_name": "Python 3",
   "language": "python",
   "name": "python3"
  },
  "language_info": {
   "codemirror_mode": {
    "name": "ipython",
    "version": 3
   },
   "file_extension": ".py",
   "mimetype": "text/x-python",
   "name": "python",
   "nbconvert_exporter": "python",
   "pygments_lexer": "ipython3",
   "version": "3.6.3"
  }
 },
 "nbformat": 4,
 "nbformat_minor": 2
}
